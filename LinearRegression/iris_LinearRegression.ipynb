{
 "cells": [
  {
   "cell_type": "code",
   "execution_count": 1,
   "id": "190765dd",
   "metadata": {},
   "outputs": [],
   "source": [
    "import seaborn as sns\n"
   ]
  },
  {
   "cell_type": "code",
   "execution_count": 2,
   "id": "c405bbdc",
   "metadata": {},
   "outputs": [],
   "source": [
    "iris=sns.load_dataset('iris')"
   ]
  },
  {
   "cell_type": "code",
   "execution_count": 3,
   "id": "afb2b506",
   "metadata": {},
   "outputs": [
    {
     "data": {
      "text/html": [
       "<div>\n",
       "<style scoped>\n",
       "    .dataframe tbody tr th:only-of-type {\n",
       "        vertical-align: middle;\n",
       "    }\n",
       "\n",
       "    .dataframe tbody tr th {\n",
       "        vertical-align: top;\n",
       "    }\n",
       "\n",
       "    .dataframe thead th {\n",
       "        text-align: right;\n",
       "    }\n",
       "</style>\n",
       "<table border=\"1\" class=\"dataframe\">\n",
       "  <thead>\n",
       "    <tr style=\"text-align: right;\">\n",
       "      <th></th>\n",
       "      <th>sepal_length</th>\n",
       "      <th>sepal_width</th>\n",
       "      <th>petal_length</th>\n",
       "      <th>petal_width</th>\n",
       "      <th>species</th>\n",
       "    </tr>\n",
       "  </thead>\n",
       "  <tbody>\n",
       "    <tr>\n",
       "      <th>0</th>\n",
       "      <td>5.1</td>\n",
       "      <td>3.5</td>\n",
       "      <td>1.4</td>\n",
       "      <td>0.2</td>\n",
       "      <td>setosa</td>\n",
       "    </tr>\n",
       "    <tr>\n",
       "      <th>1</th>\n",
       "      <td>4.9</td>\n",
       "      <td>3.0</td>\n",
       "      <td>1.4</td>\n",
       "      <td>0.2</td>\n",
       "      <td>setosa</td>\n",
       "    </tr>\n",
       "    <tr>\n",
       "      <th>2</th>\n",
       "      <td>4.7</td>\n",
       "      <td>3.2</td>\n",
       "      <td>1.3</td>\n",
       "      <td>0.2</td>\n",
       "      <td>setosa</td>\n",
       "    </tr>\n",
       "    <tr>\n",
       "      <th>3</th>\n",
       "      <td>4.6</td>\n",
       "      <td>3.1</td>\n",
       "      <td>1.5</td>\n",
       "      <td>0.2</td>\n",
       "      <td>setosa</td>\n",
       "    </tr>\n",
       "    <tr>\n",
       "      <th>4</th>\n",
       "      <td>5.0</td>\n",
       "      <td>3.6</td>\n",
       "      <td>1.4</td>\n",
       "      <td>0.2</td>\n",
       "      <td>setosa</td>\n",
       "    </tr>\n",
       "    <tr>\n",
       "      <th>...</th>\n",
       "      <td>...</td>\n",
       "      <td>...</td>\n",
       "      <td>...</td>\n",
       "      <td>...</td>\n",
       "      <td>...</td>\n",
       "    </tr>\n",
       "    <tr>\n",
       "      <th>145</th>\n",
       "      <td>6.7</td>\n",
       "      <td>3.0</td>\n",
       "      <td>5.2</td>\n",
       "      <td>2.3</td>\n",
       "      <td>virginica</td>\n",
       "    </tr>\n",
       "    <tr>\n",
       "      <th>146</th>\n",
       "      <td>6.3</td>\n",
       "      <td>2.5</td>\n",
       "      <td>5.0</td>\n",
       "      <td>1.9</td>\n",
       "      <td>virginica</td>\n",
       "    </tr>\n",
       "    <tr>\n",
       "      <th>147</th>\n",
       "      <td>6.5</td>\n",
       "      <td>3.0</td>\n",
       "      <td>5.2</td>\n",
       "      <td>2.0</td>\n",
       "      <td>virginica</td>\n",
       "    </tr>\n",
       "    <tr>\n",
       "      <th>148</th>\n",
       "      <td>6.2</td>\n",
       "      <td>3.4</td>\n",
       "      <td>5.4</td>\n",
       "      <td>2.3</td>\n",
       "      <td>virginica</td>\n",
       "    </tr>\n",
       "    <tr>\n",
       "      <th>149</th>\n",
       "      <td>5.9</td>\n",
       "      <td>3.0</td>\n",
       "      <td>5.1</td>\n",
       "      <td>1.8</td>\n",
       "      <td>virginica</td>\n",
       "    </tr>\n",
       "  </tbody>\n",
       "</table>\n",
       "<p>150 rows × 5 columns</p>\n",
       "</div>"
      ],
      "text/plain": [
       "     sepal_length  sepal_width  petal_length  petal_width    species\n",
       "0             5.1          3.5           1.4          0.2     setosa\n",
       "1             4.9          3.0           1.4          0.2     setosa\n",
       "2             4.7          3.2           1.3          0.2     setosa\n",
       "3             4.6          3.1           1.5          0.2     setosa\n",
       "4             5.0          3.6           1.4          0.2     setosa\n",
       "..            ...          ...           ...          ...        ...\n",
       "145           6.7          3.0           5.2          2.3  virginica\n",
       "146           6.3          2.5           5.0          1.9  virginica\n",
       "147           6.5          3.0           5.2          2.0  virginica\n",
       "148           6.2          3.4           5.4          2.3  virginica\n",
       "149           5.9          3.0           5.1          1.8  virginica\n",
       "\n",
       "[150 rows x 5 columns]"
      ]
     },
     "execution_count": 3,
     "metadata": {},
     "output_type": "execute_result"
    }
   ],
   "source": [
    "iris"
   ]
  },
  {
   "cell_type": "code",
   "execution_count": 5,
   "id": "6d879eda",
   "metadata": {},
   "outputs": [],
   "source": [
    "iris=iris[['petal_length','petal_width']]\n"
   ]
  },
  {
   "cell_type": "code",
   "execution_count": 6,
   "id": "e4ef71d9",
   "metadata": {},
   "outputs": [
    {
     "data": {
      "text/html": [
       "<div>\n",
       "<style scoped>\n",
       "    .dataframe tbody tr th:only-of-type {\n",
       "        vertical-align: middle;\n",
       "    }\n",
       "\n",
       "    .dataframe tbody tr th {\n",
       "        vertical-align: top;\n",
       "    }\n",
       "\n",
       "    .dataframe thead th {\n",
       "        text-align: right;\n",
       "    }\n",
       "</style>\n",
       "<table border=\"1\" class=\"dataframe\">\n",
       "  <thead>\n",
       "    <tr style=\"text-align: right;\">\n",
       "      <th></th>\n",
       "      <th>petal_length</th>\n",
       "      <th>petal_width</th>\n",
       "    </tr>\n",
       "  </thead>\n",
       "  <tbody>\n",
       "    <tr>\n",
       "      <th>0</th>\n",
       "      <td>1.4</td>\n",
       "      <td>0.2</td>\n",
       "    </tr>\n",
       "    <tr>\n",
       "      <th>1</th>\n",
       "      <td>1.4</td>\n",
       "      <td>0.2</td>\n",
       "    </tr>\n",
       "    <tr>\n",
       "      <th>2</th>\n",
       "      <td>1.3</td>\n",
       "      <td>0.2</td>\n",
       "    </tr>\n",
       "    <tr>\n",
       "      <th>3</th>\n",
       "      <td>1.5</td>\n",
       "      <td>0.2</td>\n",
       "    </tr>\n",
       "    <tr>\n",
       "      <th>4</th>\n",
       "      <td>1.4</td>\n",
       "      <td>0.2</td>\n",
       "    </tr>\n",
       "    <tr>\n",
       "      <th>...</th>\n",
       "      <td>...</td>\n",
       "      <td>...</td>\n",
       "    </tr>\n",
       "    <tr>\n",
       "      <th>145</th>\n",
       "      <td>5.2</td>\n",
       "      <td>2.3</td>\n",
       "    </tr>\n",
       "    <tr>\n",
       "      <th>146</th>\n",
       "      <td>5.0</td>\n",
       "      <td>1.9</td>\n",
       "    </tr>\n",
       "    <tr>\n",
       "      <th>147</th>\n",
       "      <td>5.2</td>\n",
       "      <td>2.0</td>\n",
       "    </tr>\n",
       "    <tr>\n",
       "      <th>148</th>\n",
       "      <td>5.4</td>\n",
       "      <td>2.3</td>\n",
       "    </tr>\n",
       "    <tr>\n",
       "      <th>149</th>\n",
       "      <td>5.1</td>\n",
       "      <td>1.8</td>\n",
       "    </tr>\n",
       "  </tbody>\n",
       "</table>\n",
       "<p>150 rows × 2 columns</p>\n",
       "</div>"
      ],
      "text/plain": [
       "     petal_length  petal_width\n",
       "0             1.4          0.2\n",
       "1             1.4          0.2\n",
       "2             1.3          0.2\n",
       "3             1.5          0.2\n",
       "4             1.4          0.2\n",
       "..            ...          ...\n",
       "145           5.2          2.3\n",
       "146           5.0          1.9\n",
       "147           5.2          2.0\n",
       "148           5.4          2.3\n",
       "149           5.1          1.8\n",
       "\n",
       "[150 rows x 2 columns]"
      ]
     },
     "execution_count": 6,
     "metadata": {},
     "output_type": "execute_result"
    }
   ],
   "source": [
    "iris"
   ]
  },
  {
   "cell_type": "code",
   "execution_count": 7,
   "id": "77ce37ed",
   "metadata": {},
   "outputs": [],
   "source": [
    "X=iris['petal_length']\n",
    "y=iris['petal_width']"
   ]
  },
  {
   "cell_type": "code",
   "execution_count": 8,
   "id": "252518b8",
   "metadata": {},
   "outputs": [],
   "source": [
    "import matplotlib.pyplot as plt"
   ]
  },
  {
   "cell_type": "code",
   "execution_count": 12,
   "id": "a7156810",
   "metadata": {},
   "outputs": [
    {
     "data": {
      "text/plain": [
       "Text(0, 0.5, 'petal width')"
      ]
     },
     "execution_count": 12,
     "metadata": {},
     "output_type": "execute_result"
    },
    {
     "data": {
      "image/png": "[encoded data removed]",
      "text/plain": [
       "<Figure size 640x480 with 1 Axes>"
      ]
     },
     "metadata": {},
     "output_type": "display_data"
    }
   ],
   "source": [
    "plt.scatter(X,y)\n",
    "plt.xlabel(\"petal length\")\n",
    "plt.ylabel(\"petal width\")"
   ]
  },
  {
   "cell_type": "code",
   "execution_count": 13,
   "id": "1cf9e049",
   "metadata": {},
   "outputs": [],
   "source": [
    "from sklearn.model_selection import train_test_split\n",
    "X_train,X_test,y_train,y_test=train_test_split(X,y,test_size=0.4,random_state=23)\n"
   ]
  },
  {
   "cell_type": "code",
   "execution_count": 15,
   "id": "13f3e62f",
   "metadata": {},
   "outputs": [
    {
     "data": {
      "text/plain": [
       "77     5.0\n",
       "29     1.6\n",
       "92     4.0\n",
       "23     1.7\n",
       "128    5.6\n",
       "      ... \n",
       "39     1.5\n",
       "91     4.6\n",
       "31     1.5\n",
       "40     1.3\n",
       "83     5.1\n",
       "Name: petal_length, Length: 90, dtype: float64"
      ]
     },
     "execution_count": 15,
     "metadata": {},
     "output_type": "execute_result"
    }
   ],
   "source": [
    "X_train"
   ]
  },
  {
   "cell_type": "code",
   "execution_count": 17,
   "id": "71d4e6b6",
   "metadata": {},
   "outputs": [
    {
     "data": {
      "text/plain": [
       "array([[5. ],\n",
       "       [1.6],\n",
       "       [4. ],\n",
       "       [1.7],\n",
       "       [5.6],\n",
       "       [4. ],\n",
       "       [4.8],\n",
       "       [5.6],\n",
       "       [5.1],\n",
       "       [4.9],\n",
       "       [1.4],\n",
       "       [1.6],\n",
       "       [5.6],\n",
       "       [1.4],\n",
       "       [1.6],\n",
       "       [5.5],\n",
       "       [5.1],\n",
       "       [4. ],\n",
       "       [1.4],\n",
       "       [4.1],\n",
       "       [5.3],\n",
       "       [4.5],\n",
       "       [5.8],\n",
       "       [6.6],\n",
       "       [4.3],\n",
       "       [1.3],\n",
       "       [4. ],\n",
       "       [4.9],\n",
       "       [4.9],\n",
       "       [4. ],\n",
       "       [1.5],\n",
       "       [4.5],\n",
       "       [4.5],\n",
       "       [3.9],\n",
       "       [5. ],\n",
       "       [4.8],\n",
       "       [3.8],\n",
       "       [5.1],\n",
       "       [6.3],\n",
       "       [6.1],\n",
       "       [1.2],\n",
       "       [5.7],\n",
       "       [3. ],\n",
       "       [1.5],\n",
       "       [5.9],\n",
       "       [4.8],\n",
       "       [1.4],\n",
       "       [4.5],\n",
       "       [4.2],\n",
       "       [5.2],\n",
       "       [1.3],\n",
       "       [1. ],\n",
       "       [3.5],\n",
       "       [1.1],\n",
       "       [4.7],\n",
       "       [4.2],\n",
       "       [1.2],\n",
       "       [5.8],\n",
       "       [4.3],\n",
       "       [4.5],\n",
       "       [1.6],\n",
       "       [6.9],\n",
       "       [4.6],\n",
       "       [5.1],\n",
       "       [5.6],\n",
       "       [4.7],\n",
       "       [1.5],\n",
       "       [1.6],\n",
       "       [5.5],\n",
       "       [5.8],\n",
       "       [4.4],\n",
       "       [1.3],\n",
       "       [5.2],\n",
       "       [3.3],\n",
       "       [5.7],\n",
       "       [3.5],\n",
       "       [1.3],\n",
       "       [1.5],\n",
       "       [1.5],\n",
       "       [5.1],\n",
       "       [1.4],\n",
       "       [1.4],\n",
       "       [4.9],\n",
       "       [1.4],\n",
       "       [4.4],\n",
       "       [1.5],\n",
       "       [4.6],\n",
       "       [1.5],\n",
       "       [1.3],\n",
       "       [5.1]])"
      ]
     },
     "execution_count": 17,
     "metadata": {},
     "output_type": "execute_result"
    }
   ],
   "source": [
    "import numpy as np\n",
    "X_train=np.array(X_train).reshape(-1,1)\n",
    "X_train"
   ]
  },
  {
   "cell_type": "code",
   "execution_count": 19,
   "id": "133f5246",
   "metadata": {},
   "outputs": [
    {
     "data": {
      "text/plain": [
       "array([[5.4],\n",
       "       [6. ],\n",
       "       [4.1],\n",
       "       [1.5],\n",
       "       [5. ],\n",
       "       [4.9],\n",
       "       [1.7],\n",
       "       [5.5],\n",
       "       [1.7],\n",
       "       [3.6],\n",
       "       [4.7],\n",
       "       [1.6],\n",
       "       [5.9],\n",
       "       [1.5],\n",
       "       [1.5],\n",
       "       [5.1],\n",
       "       [4.5],\n",
       "       [4.7],\n",
       "       [6.1],\n",
       "       [1.4],\n",
       "       [5.3],\n",
       "       [1.4],\n",
       "       [1.6],\n",
       "       [1.3],\n",
       "       [5.6],\n",
       "       [1.4],\n",
       "       [1.9],\n",
       "       [4.8],\n",
       "       [4.4],\n",
       "       [3.9],\n",
       "       [1.5],\n",
       "       [3.9],\n",
       "       [1.3],\n",
       "       [6.7],\n",
       "       [1.5],\n",
       "       [1.7],\n",
       "       [4.6],\n",
       "       [3.3],\n",
       "       [4.2],\n",
       "       [6. ],\n",
       "       [5.7],\n",
       "       [1.9],\n",
       "       [3.7],\n",
       "       [1.4],\n",
       "       [4.4],\n",
       "       [5. ],\n",
       "       [4.5],\n",
       "       [6.4],\n",
       "       [1.5],\n",
       "       [4.1],\n",
       "       [6.1],\n",
       "       [5.4],\n",
       "       [1.4],\n",
       "       [5.6],\n",
       "       [4.5],\n",
       "       [4.7],\n",
       "       [6.7],\n",
       "       [4.2],\n",
       "       [1.4],\n",
       "       [5.1]])"
      ]
     },
     "execution_count": 19,
     "metadata": {},
     "output_type": "execute_result"
    }
   ],
   "source": [
    "X_test=np.array(X_test).reshape(-1,1)\n",
    "X_test"
   ]
  },
  {
   "cell_type": "code",
   "execution_count": 20,
   "id": "4f766831",
   "metadata": {},
   "outputs": [],
   "source": [
    "from sklearn.linear_model import LinearRegression"
   ]
  },
  {
   "cell_type": "code",
   "execution_count": 21,
   "id": "c11c822c",
   "metadata": {},
   "outputs": [],
   "source": [
    "lr=LinearRegression()"
   ]
  },
  {
   "cell_type": "code",
   "execution_count": 22,
   "id": "a61850c3",
   "metadata": {},
   "outputs": [
    {
     "data": {
      "text/plain": [
       "LinearRegression()"
      ]
     },
     "execution_count": 22,
     "metadata": {},
     "output_type": "execute_result"
    }
   ],
   "source": [
    "lr.fit(X_train,y_train)"
   ]
  },
  {
   "cell_type": "code",
   "execution_count": 24,
   "id": "664798e7",
   "metadata": {},
   "outputs": [
    {
     "data": {
      "text/plain": [
       "-0.3511327422143744"
      ]
     },
     "execution_count": 24,
     "metadata": {},
     "output_type": "execute_result"
    }
   ],
   "source": [
    " c=lr.intercept_\n",
    "c"
   ]
  },
  {
   "cell_type": "code",
   "execution_count": 26,
   "id": "2eb28a68",
   "metadata": {},
   "outputs": [
    {
     "data": {
      "text/plain": [
       "array([0.41684538])"
      ]
     },
     "execution_count": 26,
     "metadata": {},
     "output_type": "execute_result"
    }
   ],
   "source": [
    "m=lr.coef_\n",
    "m"
   ]
  },
  {
   "cell_type": "code",
   "execution_count": 28,
   "id": "46ae514f",
   "metadata": {},
   "outputs": [],
   "source": [
    "Y=pred_train=m*X_train+c"
   ]
  },
  {
   "cell_type": "code",
   "execution_count": 29,
   "id": "7921a2ba",
   "metadata": {},
   "outputs": [
    {
     "data": {
      "text/plain": [
       "array([[1.73309416],\n",
       "       [0.31581987],\n",
       "       [1.31624878],\n",
       "       [0.3575044 ],\n",
       "       [1.98320139],\n",
       "       [1.31624878],\n",
       "       [1.64972508],\n",
       "       [1.98320139],\n",
       "       [1.7747787 ],\n",
       "       [1.69140962],\n",
       "       [0.23245079],\n",
       "       [0.31581987],\n",
       "       [1.98320139],\n",
       "       [0.23245079],\n",
       "       [0.31581987],\n",
       "       [1.94151685],\n",
       "       [1.7747787 ],\n",
       "       [1.31624878],\n",
       "       [0.23245079],\n",
       "       [1.35793332],\n",
       "       [1.85814777],\n",
       "       [1.52467147],\n",
       "       [2.06657046],\n",
       "       [2.40004677],\n",
       "       [1.44130239],\n",
       "       [0.19076625],\n",
       "       [1.31624878],\n",
       "       [1.69140962],\n",
       "       [1.69140962],\n",
       "       [1.31624878],\n",
       "       [0.27413533],\n",
       "       [1.52467147],\n",
       "       [1.52467147],\n",
       "       [1.27456424],\n",
       "       [1.73309416],\n",
       "       [1.64972508],\n",
       "       [1.2328797 ],\n",
       "       [1.7747787 ],\n",
       "       [2.27499315],\n",
       "       [2.19162408],\n",
       "       [0.14908171],\n",
       "       [2.02488593],\n",
       "       [0.8994034 ],\n",
       "       [0.27413533],\n",
       "       [2.108255  ],\n",
       "       [1.64972508],\n",
       "       [0.23245079],\n",
       "       [1.52467147],\n",
       "       [1.39961786],\n",
       "       [1.81646324],\n",
       "       [0.19076625],\n",
       "       [0.06571264],\n",
       "       [1.10782609],\n",
       "       [0.10739718],\n",
       "       [1.60804055],\n",
       "       [1.39961786],\n",
       "       [0.14908171],\n",
       "       [2.06657046],\n",
       "       [1.44130239],\n",
       "       [1.52467147],\n",
       "       [0.31581987],\n",
       "       [2.52510038],\n",
       "       [1.56635601],\n",
       "       [1.7747787 ],\n",
       "       [1.98320139],\n",
       "       [1.60804055],\n",
       "       [0.27413533],\n",
       "       [0.31581987],\n",
       "       [1.94151685],\n",
       "       [2.06657046],\n",
       "       [1.48298693],\n",
       "       [0.19076625],\n",
       "       [1.81646324],\n",
       "       [1.02445701],\n",
       "       [2.02488593],\n",
       "       [1.10782609],\n",
       "       [0.19076625],\n",
       "       [0.27413533],\n",
       "       [0.27413533],\n",
       "       [1.7747787 ],\n",
       "       [0.23245079],\n",
       "       [0.23245079],\n",
       "       [1.69140962],\n",
       "       [0.23245079],\n",
       "       [1.48298693],\n",
       "       [0.27413533],\n",
       "       [1.56635601],\n",
       "       [0.27413533],\n",
       "       [0.19076625],\n",
       "       [1.7747787 ]])"
      ]
     },
     "execution_count": 29,
     "metadata": {},
     "output_type": "execute_result"
    }
   ],
   "source": [
    "Y\n"
   ]
  },
  {
   "cell_type": "code",
   "execution_count": 31,
   "id": "af4f1476",
   "metadata": {},
   "outputs": [],
   "source": [
    "y_pred=lr.predict(X_train)"
   ]
  },
  {
   "cell_type": "code",
   "execution_count": 33,
   "id": "f2e47774",
   "metadata": {},
   "outputs": [
    {
     "data": {
      "text/plain": [
       "Text(0, 0.5, 'petal width')"
      ]
     },
     "execution_count": 33,
     "metadata": {},
     "output_type": "execute_result"
    },
    {
     "data": {
      "image/png": "[encoded data removed]",
      "text/plain": [
       "<Figure size 640x480 with 1 Axes>"
      ]
     },
     "metadata": {},
     "output_type": "display_data"
    }
   ],
   "source": [
    "plt.scatter(X_train,y_train)\n",
    "plt.plot(X_train,y_pred,color='green')\n",
    "plt.xlabel(\"petal length\")\n",
    "plt.ylabel(\"petal width\")"
   ]
  },
  {
   "cell_type": "code",
   "execution_count": 34,
   "id": "08e48d15",
   "metadata": {},
   "outputs": [],
   "source": [
    "y_pred=lr.predict(X_test)\n"
   ]
  },
  {
   "cell_type": "code",
   "execution_count": 35,
   "id": "2442b7b6",
   "metadata": {},
   "outputs": [
    {
     "data": {
      "text/plain": [
       "Text(0, 0.5, 'petal width')"
      ]
     },
     "execution_count": 35,
     "metadata": {},
     "output_type": "execute_result"
    },
    {
     "data": {
      "image/png": "[encoded data removed]",
      "text/plain": [
       "<Figure size 640x480 with 1 Axes>"
      ]
     },
     "metadata": {},
     "output_type": "display_data"
    }
   ],
   "source": [
    "plt.scatter(X_test,y_pred)\n",
    "plt.xlabel(\"petal length\")\n",
    "plt.ylabel(\"petal width\")"
   ]
  },
  {
   "cell_type": "code",
   "execution_count": 37,
   "id": "423b707b",
   "metadata": {},
   "outputs": [
    {
     "data": {
      "text/plain": [
       "<matplotlib.collections.PathCollection at 0x19120176670>"
      ]
     },
     "execution_count": 37,
     "metadata": {},
     "output_type": "execute_result"
    },
    {
     "data": {
      "image/png": "[encoded data removed]",
      "text/plain": [
       "<Figure size 640x480 with 1 Axes>"
      ]
     },
     "metadata": {},
     "output_type": "display_data"
    }
   ],
   "source": [
    "plt.scatter(X_test,y_test)\n",
    "plt.scatter(X_test,y_pred)"
   ]
  },
  {
   "cell_type": "code",
   "execution_count": 43,
   "id": "f5bc5934",
   "metadata": {},
   "outputs": [
    {
     "data": {
      "text/plain": [
       "<AxesSubplot:xlabel='petal_width', ylabel='Count'>"
      ]
     },
     "execution_count": 43,
     "metadata": {},
     "output_type": "execute_result"
    },
    {
     "data": {
      "image/png": "[encoded data removed]",
      "text/plain": [
       "<Figure size 640x480 with 1 Axes>"
      ]
     },
     "metadata": {},
     "output_type": "display_data"
    }
   ],
   "source": [
    "sns.histplot((y_test-y_pred),bins=5)"
   ]
  },
  {
   "cell_type": "code",
   "execution_count": null,
   "id": "f5080cb9",
   "metadata": {},
   "outputs": [],
   "source": []
  }
 ],
 "metadata": {
  "kernelspec": {
   "display_name": "Python 3 (ipykernel)",
   "language": "python",
   "name": "python3"
  },
  "language_info": {
   "codemirror_mode": {
    "name": "ipython",
    "version": 3
   },
   "file_extension": ".py",
   "mimetype": "text/x-python",
   "name": "python",
   "nbconvert_exporter": "python",
   "pygments_lexer": "ipython3",
   "version": "3.9.13"
  }
 },
 "nbformat": 4,
 "nbformat_minor": 5
}
